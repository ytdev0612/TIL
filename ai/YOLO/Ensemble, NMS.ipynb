{
 "cells": [
  {
   "cell_type": "code",
   "execution_count": 1,
   "id": "39485466",
   "metadata": {},
   "outputs": [],
   "source": [
    "# 앙상블기법\n",
    "# 여러 개의 모델을 결합하여 예측 성능 향상\n",
    "# 모델 결합 -> 예측 성능 향상\n",
    "# 오류 감소 : 서로 다른 모델의 오류를 상쇄하여 전반적인 오류 감소\n",
    "# 예측 정확도 향상 : 다양한 모델의 결과를 종합하여 예측 정확도 향상\n",
    "\n",
    "# Bagging : 여러 모델을 병렬로 학습\n",
    "# Boosting : 순차적으로 학습시켜 이전 모델의 오류 보완\n",
    "# Voting : 여러 모델이 예측한 결 중 가장 많이 선택된 결과를 최종 예측값으로 선택\n",
    "# Stacking : 여러 개의 다른 모델을 학습시킨 후 그 모델들의 예측 결과를 입력으로 새로운 메타 모델 학습"
   ]
  },
  {
   "cell_type": "code",
   "execution_count": null,
   "id": "e536d6bc",
   "metadata": {},
   "outputs": [],
   "source": [
    "# NMS(Non-Maximum Suppression)\n",
    "# 객체 탐지 작업에서 사용하는 알고리즘\n",
    "# 여러 개의 경계 상자 중에서 적합한 경계 상자를 선택하는 역할"
   ]
  },
  {
   "cell_type": "code",
   "execution_count": null,
   "id": "3455d252",
   "metadata": {},
   "outputs": [],
   "source": []
  }
 ],
 "metadata": {
  "kernelspec": {
   "display_name": "Python 3 (ipykernel)",
   "language": "python",
   "name": "python3"
  },
  "language_info": {
   "codemirror_mode": {
    "name": "ipython",
    "version": 3
   },
   "file_extension": ".py",
   "mimetype": "text/x-python",
   "name": "python",
   "nbconvert_exporter": "python",
   "pygments_lexer": "ipython3",
   "version": "3.9.7"
  }
 },
 "nbformat": 4,
 "nbformat_minor": 5
}
