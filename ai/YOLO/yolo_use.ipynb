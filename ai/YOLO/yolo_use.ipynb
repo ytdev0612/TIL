{
 "cells": [
  {
   "cell_type": "code",
   "execution_count": 1,
   "id": "d958a39c",
   "metadata": {},
   "outputs": [
    {
     "name": "stdout",
     "output_type": "stream",
     "text": [
      "Ultralytics YOLOv8.2.52  Python-3.9.7 torch-1.13.1+cu116 CUDA:0 (NVIDIA GeForce RTX 4080 SUPER, 16375MiB)\n",
      "Setup complete  (16 CPUs, 31.9 GB RAM, 470.6/930.8 GB disk)\n"
     ]
    }
   ],
   "source": [
    "from ultralytics import YOLO\n",
    "import ultralytics\n",
    "\n",
    "ultralytics.checks()\n",
    "\n",
    "# YOLO 모델 사용시에 속도 향상을 위해서 pytorch cuda 이용가능한 버전 설치\n",
    "# cudatoolkit과 cudnn 설치"
   ]
  },
  {
   "cell_type": "code",
   "execution_count": 2,
   "id": "3d48093f",
   "metadata": {},
   "outputs": [
    {
     "name": "stdout",
     "output_type": "stream",
     "text": [
      "Downloading https://github.com/ultralytics/assets/releases/download/v8.2.0/yolov9s.pt to 'yolov9s.pt'...\n"
     ]
    },
    {
     "data": {
      "application/vnd.jupyter.widget-view+json": {
       "model_id": "127193e971ea431aa70a915d819a8b05",
       "version_major": 2,
       "version_minor": 0
      },
      "text/plain": [
       "  0%|          | 0.00/14.7M [00:00<?, ?B/s]"
      ]
     },
     "metadata": {},
     "output_type": "display_data"
    }
   ],
   "source": [
    "model = YOLO('yolov9s.pt')\n",
    "# 다양한 모델존재, 예시로는 'yolov9s' 이용"
   ]
  },
  {
   "cell_type": "code",
   "execution_count": 3,
   "id": "ef2f05d7",
   "metadata": {},
   "outputs": [
    {
     "name": "stdout",
     "output_type": "stream",
     "text": [
      "{'names': ['man', 'woman'], 'nc': 2, 'test': '../test/images', 'train': '../train/images', 'val': '../valid/images'}\n"
     ]
    }
   ],
   "source": [
    "# 학습할 데이터의 yaml 파일 설정 확인하기\n",
    "import yaml\n",
    "\n",
    "with open('data.yaml', 'r') as file:\n",
    "    data = yaml.safe_load(file)\n",
    "    \n",
    "print(data)"
   ]
  },
  {
   "cell_type": "code",
   "execution_count": 4,
   "id": "fd1ad049",
   "metadata": {},
   "outputs": [
    {
     "name": "stdout",
     "output_type": "stream",
     "text": [
      "{0: 'person', 1: 'bicycle', 2: 'car', 3: 'motorcycle', 4: 'airplane', 5: 'bus', 6: 'train', 7: 'truck', 8: 'boat', 9: 'traffic light', 10: 'fire hydrant', 11: 'stop sign', 12: 'parking meter', 13: 'bench', 14: 'bird', 15: 'cat', 16: 'dog', 17: 'horse', 18: 'sheep', 19: 'cow', 20: 'elephant', 21: 'bear', 22: 'zebra', 23: 'giraffe', 24: 'backpack', 25: 'umbrella', 26: 'handbag', 27: 'tie', 28: 'suitcase', 29: 'frisbee', 30: 'skis', 31: 'snowboard', 32: 'sports ball', 33: 'kite', 34: 'baseball bat', 35: 'baseball glove', 36: 'skateboard', 37: 'surfboard', 38: 'tennis racket', 39: 'bottle', 40: 'wine glass', 41: 'cup', 42: 'fork', 43: 'knife', 44: 'spoon', 45: 'bowl', 46: 'banana', 47: 'apple', 48: 'sandwich', 49: 'orange', 50: 'broccoli', 51: 'carrot', 52: 'hot dog', 53: 'pizza', 54: 'donut', 55: 'cake', 56: 'chair', 57: 'couch', 58: 'potted plant', 59: 'bed', 60: 'dining table', 61: 'toilet', 62: 'tv', 63: 'laptop', 64: 'mouse', 65: 'remote', 66: 'keyboard', 67: 'cell phone', 68: 'microwave', 69: 'oven', 70: 'toaster', 71: 'sink', 72: 'refrigerator', 73: 'book', 74: 'clock', 75: 'vase', 76: 'scissors', 77: 'teddy bear', 78: 'hair drier', 79: 'toothbrush'}\n"
     ]
    }
   ],
   "source": [
    "print(model.names) # 현재는 ms 데이터셋 상태"
   ]
  },
  {
   "cell_type": "code",
   "execution_count": 5,
   "id": "3f786739",
   "metadata": {},
   "outputs": [
    {
     "data": {
      "text/plain": [
       "{'settings_version': '0.0.4',\n",
       " 'datasets_dir': 'C:\\\\Users\\\\ryun1\\\\ds\\\\final_project\\\\20240718_data4\\\\ingredients.v1i.yolov9_3(1)',\n",
       " 'weights_dir': 'weights',\n",
       " 'runs_dir': 'runs',\n",
       " 'uuid': '10e8f398a588ea9aea5a264c6a847d9bc0cc14b554b52cdd1cf2415a7456cdb3',\n",
       " 'sync': True,\n",
       " 'api_key': '',\n",
       " 'openai_api_key': '',\n",
       " 'clearml': True,\n",
       " 'comet': True,\n",
       " 'dvc': True,\n",
       " 'hub': True,\n",
       " 'mlflow': True,\n",
       " 'neptune': True,\n",
       " 'raytune': True,\n",
       " 'tensorboard': True,\n",
       " 'wandb': True}"
      ]
     },
     "execution_count": 5,
     "metadata": {},
     "output_type": "execute_result"
    }
   ],
   "source": [
    "# settings.yaml의 datasets_dir 수정하기\n",
    "import yaml\n",
    "\n",
    "# settings.yaml 파일의 절대 경로\n",
    "settings_path = 'C:/Users/ryun1/AppData/Roaming/Ultralytics/settings.yaml'\n",
    "\n",
    "# YAML 파일 읽기\n",
    "with open(settings_path, 'r') as file:\n",
    "    config = yaml.safe_load(file)\n",
    "    \n",
    "# print(config)\n",
    "\n",
    "# 수정할 내용 적용하기\n",
    "config['datasets_dir'] = 'C:\\Users\\ryun1\\ds\\final_project\\20240718_data4\\ingredients.v1i.yolov9_3(1)'\n",
    "\n",
    "# 수정된 내용 저장하기\n",
    "with open(settings_path, 'w') as file:\n",
    "    yaml.dump(config, file)"
   ]
  },
  {
   "cell_type": "code",
   "execution_count": null,
   "id": "90668247",
   "metadata": {},
   "outputs": [],
   "source": [
    "# 모델학습\n",
    "model.train(data='data/data.yaml', epochs=100, patience=30, batch=16, imgsz=416)"
   ]
  },
  {
   "cell_type": "code",
   "execution_count": 6,
   "id": "8f4d1ee5",
   "metadata": {},
   "outputs": [],
   "source": [
    "# epochs : 반복 횟수\n",
    "# patience : 30번동안 향상 x -> 조기 종료\n",
    "# batch : 한번에 훈련하는 데이터의 수\n",
    "# imgsz : 훈련에 사용할 이미지 사이즈(일반적으로 32의 배수 사용(다운샘플링 매커니즘))"
   ]
  },
  {
   "cell_type": "code",
   "execution_count": null,
   "id": "2ef9c37b",
   "metadata": {},
   "outputs": [],
   "source": [
    "# epoch : 전체 데이터셋이 모두 사용된 횟수\n",
    "# GPU_mem : gpu 메모리 사용량\n",
    "# box_loss : 예측된 바운딩 박스와 실제 바운딩 박스 간의 차이를 측정하는 손실 함수 값, 낮을 수록 정확하게 예측\n",
    "# cls_loss : 예측된 클래스와 실제 클래스 간의 차이를 측정하는 손실 함수 값, 낮을수록 정확하게 예측\n",
    "# dfl_loss : (Distribution Focal Loss) 클래스 불균형 문제 해결을 위해 사용되는 손실 함수, 낮을수록 불균형 문제 잘 처리\n",
    "# Instances : 현재 에폭에서 처리된 인스턴스(이미지)의 수\n",
    "# Size : 입력 이미지의 크기"
   ]
  },
  {
   "cell_type": "code",
   "execution_count": 7,
   "id": "aba33c99",
   "metadata": {},
   "outputs": [],
   "source": [
    "# metrics/precision(B) : 정밀도, True로 예측한 것중 실제 True 비율\n",
    "# metrics/recall(B): 재현율, 실제 True로 예측한 것중 모델이 True로 예측한 비율\n",
    "# metrics/mAP50(B): 평균 정밀도, IoU(Intersection over Union) 임계값이 0.5일 때의 평균 정밀도, 1에가까울 수록 예측 정확\n",
    "# metrics/mAP50-95(B): IoU 임계값이 0.5에서 0.95까지 변할 때의 평균 정밀도. 값이 1에 가까울수록 모델의 예측이 정확\n",
    "# fitness:모델의 적합도, 모델 성능 종합 평가, 값이 낮을수록 모델 성능이 좋음"
   ]
  },
  {
   "cell_type": "code",
   "execution_count": null,
   "id": "8db3aaff",
   "metadata": {},
   "outputs": [],
   "source": [
    "# test 이미지를 통해 모델확인\n",
    "result = model.predict(source='data/test/images', save=True)"
   ]
  },
  {
   "cell_type": "code",
   "execution_count": null,
   "id": "f0c63ec2",
   "metadata": {},
   "outputs": [],
   "source": [
    "# 성능 테스트\n",
    "model.val()"
   ]
  },
  {
   "cell_type": "code",
   "execution_count": 8,
   "id": "0af9e4b2",
   "metadata": {},
   "outputs": [],
   "source": [
    "# model.predict를 통해서 얻은 이미지 확인해보기\n",
    "from PIL import Image\n",
    "from IPython.display import Image\n",
    "\n",
    "image1 = Image(filename='runs/detect/train52/0001_jpg.rf.9fbe01a9c0214edbb8eca2fe0bbca214.jpg')\n",
    "display(image1)"
   ]
  },
  {
   "cell_type": "code",
   "execution_count": null,
   "id": "009d6f6a",
   "metadata": {},
   "outputs": [],
   "source": [
    "# 모델학습 후 생긴 train(숫자) 폴더의 파인튜닝된 best.pt, last.pt 를 사용할 수 있으며\n",
    "# 시각적 확인이 용이한 결과물들 확인 가능"
   ]
  }
 ],
 "metadata": {
  "kernelspec": {
   "display_name": "Python 3 (ipykernel)",
   "language": "python",
   "name": "python3"
  },
  "language_info": {
   "codemirror_mode": {
    "name": "ipython",
    "version": 3
   },
   "file_extension": ".py",
   "mimetype": "text/x-python",
   "name": "python",
   "nbconvert_exporter": "python",
   "pygments_lexer": "ipython3",
   "version": "3.9.7"
  }
 },
 "nbformat": 4,
 "nbformat_minor": 5
}
