{
 "cells": [
  {
   "cell_type": "code",
   "execution_count": null,
   "metadata": {},
   "outputs": [],
   "source": [
    "# yaml 파일 만들기"
   ]
  },
  {
   "cell_type": "code",
   "execution_count": 1,
   "metadata": {},
   "outputs": [],
   "source": [
    "import yaml\n",
    "\n",
    "# yaml 파일에 저장할 데이터 정의하기\n",
    "data = {\n",
    "    'train' : '../train/images',\n",
    "    'val' : '../valid/images',\n",
    "    'test' : '../test/images',\n",
    "    \n",
    "    'nc' : 2,\n",
    "    'names' : ['man', 'woman']\n",
    "}\n",
    "\n",
    "# yaml 파일 쓰기 모드로 열기\n",
    "with open('data.yaml', 'w') as file:\n",
    "    # yaml 형식으로 파일에 쓰기\n",
    "    yaml.dump(data, file)"
   ]
  },
  {
   "cell_type": "code",
   "execution_count": null,
   "metadata": {},
   "outputs": [],
   "source": []
  },
  {
   "cell_type": "code",
   "execution_count": null,
   "metadata": {},
   "outputs": [],
   "source": [
    "# yaml 파일 수정"
   ]
  },
  {
   "cell_type": "code",
   "execution_count": 1,
   "metadata": {},
   "outputs": [],
   "source": [
    "import yaml\n",
    "\n",
    "# YAML 파일 읽기\n",
    "with open('data.yaml', 'r') as file:\n",
    "    config = yaml.safe_load(file)\n",
    "\n",
    "# 수정할 내용 적용하기\n",
    "config['train'] = '../train/images'\n",
    "config['nc'] = 3\n",
    "config['names'] = ['man', 'woman', 'nb']\n",
    "\n",
    "# 수정된 내용 저장하기\n",
    "with open('data.yaml', 'w') as file:\n",
    "    yaml.dump(config, file)"
   ]
  },
  {
   "cell_type": "code",
   "execution_count": null,
   "metadata": {},
   "outputs": [],
   "source": []
  }
 ],
 "metadata": {
  "kernelspec": {
   "display_name": "Python 3 (ipykernel)",
   "language": "python",
   "name": "python3"
  },
  "language_info": {
   "codemirror_mode": {
    "name": "ipython",
    "version": 3
   },
   "file_extension": ".py",
   "mimetype": "text/x-python",
   "name": "python",
   "nbconvert_exporter": "python",
   "pygments_lexer": "ipython3",
   "version": "3.9.7"
  }
 },
 "nbformat": 4,
 "nbformat_minor": 2
}
