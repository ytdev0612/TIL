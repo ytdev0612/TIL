{
 "cells": [
  {
   "cell_type": "code",
   "execution_count": 1,
   "id": "62e9b82d",
   "metadata": {},
   "outputs": [],
   "source": [
    "# 하이퍼 파라미터 튜닝\n",
    "# 최적의 결과를 위해 모델 성능을 조절해야하고 적절한 하이퍼 파라미터 값을 선택하는 것이 중요"
   ]
  },
  {
   "cell_type": "code",
   "execution_count": 2,
   "id": "657d739a",
   "metadata": {},
   "outputs": [],
   "source": [
    "#  튜닝 기법\n",
    "\n",
    "# 베이지안 최적화(Bayesian Optimization)\n",
    "# 이전 시도 결과를 기반으로 하이퍼파라미터 조합을 추정하는 방법, 각 시도마다 성능을 평가하고, 이를 토대로 다음 시도에 대한 확률 분포 업데이트\n",
    "# 시간과 자원을 효율적으로 사용\n",
    "\n",
    "# 그리드 탐색(Grid Search)\n",
    "# 가능한 모든 하이퍼파라미터 조합을 시도하여 최적의 조합을 찾는 방법, 하이퍼파라미터 개수가 많아질수록 시간과 자원 소모 상승\n",
    "\n",
    "# 랜덤 서치(Random Search)\n",
    "# 하이퍼파라미터 조합을 랜덤하게 선택하여 성능을 평가하는 방법, 그리드 탐색보다 시간과 자원 적게 소모, 최적의 조합을 찾을 가능성이 높음\n",
    "# 하이퍼파라미터의 중요도에 따라 범위를 조정할 수 있는 장점"
   ]
  },
  {
   "cell_type": "code",
   "execution_count": null,
   "id": "f3094c90",
   "metadata": {},
   "outputs": [],
   "source": []
  },
  {
   "cell_type": "code",
   "execution_count": null,
   "id": "4a6cb2dc",
   "metadata": {},
   "outputs": [],
   "source": [
    "# YOLO에서 일반적으로 조정되는 하이퍼파라미터\n",
    "\n",
    "# Learning Rate, Batch Size, Epochs"
   ]
  },
  {
   "cell_type": "code",
   "execution_count": null,
   "id": "632ba8a2",
   "metadata": {},
   "outputs": [],
   "source": []
  },
  {
   "cell_type": "code",
   "execution_count": null,
   "id": "ea0965cf",
   "metadata": {},
   "outputs": [],
   "source": [
    "# YOLO 모델에 제공된 기본 하이퍼파라미터로 튜닝 프로세스 시작\n",
    "# 학습률 조정\n",
    "# 점진적으로 하이퍼파라미터를 약간씩 조정\n",
    "# 학습률, 운동량, 가중치 감소 등 주요 하이퍼파라미터에 집중\n",
    "# 여러 번 시도하며 최적의 지점 찾기"
   ]
  },
  {
   "cell_type": "code",
   "execution_count": null,
   "id": "04d50e24",
   "metadata": {},
   "outputs": [],
   "source": []
  },
  {
   "cell_type": "code",
   "execution_count": null,
   "id": "9215e7d7",
   "metadata": {},
   "outputs": [],
   "source": [
    "# https://aws.amazon.com/ko/what-is/hyperparameter-tuning/\n",
    "# https://docs.ultralytics.com/guides/hyperparameter-tuning/"
   ]
  }
 ],
 "metadata": {
  "kernelspec": {
   "display_name": "Python 3 (ipykernel)",
   "language": "python",
   "name": "python3"
  },
  "language_info": {
   "codemirror_mode": {
    "name": "ipython",
    "version": 3
   },
   "file_extension": ".py",
   "mimetype": "text/x-python",
   "name": "python",
   "nbconvert_exporter": "python",
   "pygments_lexer": "ipython3",
   "version": "3.9.7"
  }
 },
 "nbformat": 4,
 "nbformat_minor": 5
}
