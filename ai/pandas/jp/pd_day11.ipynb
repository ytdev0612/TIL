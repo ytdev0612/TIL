{
 "cells": [
  {
   "cell_type": "code",
   "execution_count": 3,
   "id": "f8c5e032",
   "metadata": {},
   "outputs": [],
   "source": [
    "import pandas as pd\n",
    "import numpy as np\n",
    "import matplotlib.pyplot as plt\n",
    "import seaborn as sns"
   ]
  },
  {
   "cell_type": "code",
   "execution_count": 4,
   "id": "4d5bd751",
   "metadata": {},
   "outputs": [],
   "source": [
    "blood = ['A', 'A', 'A', 'B', 'B', 'AB', 'O']\n",
    "# 범주형 자료"
   ]
  },
  {
   "cell_type": "code",
   "execution_count": 7,
   "id": "b7592121",
   "metadata": {},
   "outputs": [
    {
     "data": {
      "text/plain": [
       "(array(['A', 'AB', 'B', 'O'], dtype='<U2'), array([3, 1, 2, 1], dtype=int64))"
      ]
     },
     "execution_count": 7,
     "metadata": {},
     "output_type": "execute_result"
    }
   ],
   "source": [
    "np.unique(blood)\n",
    "np.unique(blood, return_counts=True)"
   ]
  },
  {
   "cell_type": "code",
   "execution_count": 9,
   "id": "f03ff14b",
   "metadata": {},
   "outputs": [
    {
     "data": {
      "text/plain": [
       "A     3\n",
       "B     2\n",
       "AB    1\n",
       "O     1\n",
       "dtype: int64"
      ]
     },
     "execution_count": 9,
     "metadata": {},
     "output_type": "execute_result"
    }
   ],
   "source": [
    "pd.value_counts(blood)"
   ]
  },
  {
   "cell_type": "code",
   "execution_count": 12,
   "id": "a5e8be42",
   "metadata": {},
   "outputs": [
    {
     "data": {
      "text/plain": [
       "<AxesSubplot:ylabel='count'>"
      ]
     },
     "execution_count": 12,
     "metadata": {},
     "output_type": "execute_result"
    },
    {
     "data": {
      "image/png": "[encoded data removed]",
      "text/plain": [
       "<Figure size 432x288 with 1 Axes>"
      ]
     },
     "metadata": {
      "needs_background": "light"
     },
     "output_type": "display_data"
    }
   ],
   "source": [
    "sns.countplot(x=blood)"
   ]
  },
  {
   "cell_type": "code",
   "execution_count": 11,
   "id": "4f933c71",
   "metadata": {},
   "outputs": [],
   "source": [
    "x = [1, 1, 1, 2, 3, 5, 5, 7, 8, 9]"
   ]
  },
  {
   "cell_type": "code",
   "execution_count": 14,
   "id": "fc095de7",
   "metadata": {},
   "outputs": [],
   "source": [
    "hist, edge = np.histogram(x, 4) # 구간별 빈도수 확인/ 구간별 빈도수, 구간"
   ]
  },
  {
   "cell_type": "code",
   "execution_count": 15,
   "id": "33b3746b",
   "metadata": {},
   "outputs": [
    {
     "data": {
      "text/plain": [
       "array([4, 1, 2, 3], dtype=int64)"
      ]
     },
     "execution_count": 15,
     "metadata": {},
     "output_type": "execute_result"
    }
   ],
   "source": [
    "hist"
   ]
  },
  {
   "cell_type": "code",
   "execution_count": 16,
   "id": "7d9ece5d",
   "metadata": {},
   "outputs": [
    {
     "data": {
      "text/plain": [
       "array([1., 3., 5., 7., 9.])"
      ]
     },
     "execution_count": 16,
     "metadata": {},
     "output_type": "execute_result"
    }
   ],
   "source": [
    "edge"
   ]
  },
  {
   "cell_type": "code",
   "execution_count": 23,
   "id": "b8451bc0",
   "metadata": {},
   "outputs": [],
   "source": [
    "# 중심경향치 : 자료의 중심이 되는 숫자 (평균, 중위수, 최빈수 등)\n",
    "# - 무엇을 중심으로 모여있나(흩어져있나)\n",
    "# 변산성측정치 : 자료가 흩어져 있는 정도를 나타낸 값\n",
    "# - 모여있는 정도(흩어진 정도)\n",
    "\n",
    "x = [100, 100, 200, 400, 500]"
   ]
  },
  {
   "cell_type": "code",
   "execution_count": 24,
   "id": "20ebf8e2",
   "metadata": {},
   "outputs": [
    {
     "data": {
      "text/plain": [
       "260.0"
      ]
     },
     "execution_count": 24,
     "metadata": {},
     "output_type": "execute_result"
    }
   ],
   "source": [
    "np.mean(x)"
   ]
  },
  {
   "cell_type": "code",
   "execution_count": 25,
   "id": "d82ba924",
   "metadata": {},
   "outputs": [
    {
     "data": {
      "text/plain": [
       "200.0"
      ]
     },
     "execution_count": 25,
     "metadata": {},
     "output_type": "execute_result"
    }
   ],
   "source": [
    "np.median(x) # 중위수"
   ]
  },
  {
   "cell_type": "code",
   "execution_count": 29,
   "id": "2ff15d21",
   "metadata": {},
   "outputs": [],
   "source": [
    "x = [1, 1, 2, 3, 3, 3, 4, 5, 5, 7]"
   ]
  },
  {
   "cell_type": "code",
   "execution_count": 33,
   "id": "0a14e36b",
   "metadata": {},
   "outputs": [
    {
     "data": {
      "text/plain": [
       "6"
      ]
     },
     "execution_count": 33,
     "metadata": {},
     "output_type": "execute_result"
    }
   ],
   "source": [
    "# 범위(range) : 최대값과 최소값의 차이, 자료의 퍼짐 정도\n",
    "np.min(x)\n",
    "np.max(x)\n",
    "np.max(x) - np.min(x)"
   ]
  },
  {
   "cell_type": "code",
   "execution_count": 26,
   "id": "883b3c81",
   "metadata": {},
   "outputs": [],
   "source": [
    "# 중위수 : 명명척도에서 사용x, 서열/등간/비율척도에서 사용O\n",
    "\n",
    "# 척도(scale) : 수집된 데이터의 수준\n",
    "# 명명척도 : 혈액형(순서x, 연산x, 빈도수o)\n",
    "# 서열척도 : 직급(사원,대리,과장,..., 순서o, 연산x, 빈도수o, 데이터 간격 일정치 않음)\n",
    "# ex) 어린이, 청소년, 청년, 장년, 노년\n",
    "# 등간척도 : 온도(순서o, 연산o, 영점의 기준이 임의적)\n",
    "# ex)섭씨 20도는 섭씨 5도의 4배(수치상), 4배 따뜻하다?(아님)\n",
    "# 비율척도 : 길이(등간척도 + 영점의 기준이 절대적(절대영점))\n",
    "# ex)길이 20미터는 길이 5미터의 4배(수치상), 실제로도 4배 길다"
   ]
  },
  {
   "cell_type": "code",
   "execution_count": 27,
   "id": "f40cabd1",
   "metadata": {},
   "outputs": [],
   "source": [
    "from scipy.stats import mode"
   ]
  },
  {
   "cell_type": "code",
   "execution_count": 28,
   "id": "bcf02235",
   "metadata": {},
   "outputs": [
    {
     "data": {
      "text/plain": [
       "ModeResult(mode=array([100]), count=array([2]))"
      ]
     },
     "execution_count": 28,
     "metadata": {},
     "output_type": "execute_result"
    }
   ],
   "source": [
    "mode(x) # 최빈수, 최빈수의 빈도"
   ]
  },
  {
   "cell_type": "code",
   "execution_count": 34,
   "id": "5a6aecd3",
   "metadata": {},
   "outputs": [],
   "source": [
    "# 분산 크다? 데이터가 평균에서 많이 벗어나 있다\n",
    "# 분산 작다? 데이터가 평균 주변에 많이 있다"
   ]
  },
  {
   "cell_type": "code",
   "execution_count": 35,
   "id": "cd3193e3",
   "metadata": {},
   "outputs": [
    {
     "data": {
      "text/plain": [
       "3.2399999999999998"
      ]
     },
     "execution_count": 35,
     "metadata": {},
     "output_type": "execute_result"
    }
   ],
   "source": [
    "np.var(x) # 분산"
   ]
  },
  {
   "cell_type": "code",
   "execution_count": 37,
   "id": "9e5567dd",
   "metadata": {},
   "outputs": [
    {
     "data": {
      "text/plain": [
       "3.4"
      ]
     },
     "execution_count": 37,
     "metadata": {},
     "output_type": "execute_result"
    }
   ],
   "source": [
    "np.mean(x) # 3.4"
   ]
  },
  {
   "cell_type": "code",
   "execution_count": 44,
   "id": "c85b87d0",
   "metadata": {},
   "outputs": [
    {
     "data": {
      "text/plain": [
       "[1, 1, 2, 3, 3, 3, 4, 5, 5, 7]"
      ]
     },
     "execution_count": 44,
     "metadata": {},
     "output_type": "execute_result"
    }
   ],
   "source": [
    "x"
   ]
  },
  {
   "cell_type": "code",
   "execution_count": 48,
   "id": "64c85dc9",
   "metadata": {},
   "outputs": [
    {
     "data": {
      "text/plain": [
       "3.2399999999999998"
      ]
     },
     "execution_count": 48,
     "metadata": {},
     "output_type": "execute_result"
    }
   ],
   "source": [
    "# 분산\n",
    "summation = 0\n",
    "for n in x:\n",
    "    summation+=(n-np.mean(x))**2\n",
    "summation/len(x)"
   ]
  },
  {
   "cell_type": "code",
   "execution_count": 51,
   "id": "0c3738f9",
   "metadata": {},
   "outputs": [],
   "source": [
    "# 공분산\n",
    "# 두 변수가 함께 변화하는 정도\n",
    "# 공분산 > 0 : 두 변수가 같은 방향으로 변화\n",
    "# 공분산 < 0 : 두 변수가 반대 방향으로 변화\n",
    "# 공분산 = 0 : 두 변수가 독립(상관없음)\n",
    "\n",
    "# 공분산의 크기가(절대값) 클 때 : 두 변수가 함께 많이 변화\n",
    "# 공분산의 크기는 단위의 영향(ex: 키 cm/m) -> 절대적 크기로 판단x => -1 ~ +1 값으로 표준화\n",
    "# => 표준화된값 : 상관계수\n",
    "\n",
    "# 공분산은 선형적인 관계 측정, 비선형적인 관계는 측정하지 못함\n",
    "\n",
    "\n",
    "# 상관계수\n",
    "# 두 변수가 함께 변화하는 정도를 -1 ~ +1 사이로 나타낸 수\n",
    "# 상관계수 = 공분산/ 각 변수의 표준편차의 곱 \n",
    "# -1 <= 상관계수 <= +1\n",
    "\n",
    "# 피어슨 상관계수 : 일반적인 상관계수\n",
    "# 스피어만, 켄달, ... 상관계수"
   ]
  },
  {
   "cell_type": "code",
   "execution_count": 52,
   "id": "510a5106",
   "metadata": {},
   "outputs": [],
   "source": [
    "x = [8, 3, 6, 6, 9, 4, 3, 9, 3, 4] # 부모\n",
    "y = [6, 2, 4, 6, 10, 5, 1, 8, 4, 5] # 자식"
   ]
  },
  {
   "cell_type": "code",
   "execution_count": 54,
   "id": "a3e5321a",
   "metadata": {},
   "outputs": [
    {
     "data": {
      "text/plain": [
       "[<matplotlib.lines.Line2D at 0x23a710e9a90>]"
      ]
     },
     "execution_count": 54,
     "metadata": {},
     "output_type": "execute_result"
    },
    {
     "data": {
      "image/png": "[encoded data removed]",
      "text/plain": [
       "<Figure size 432x288 with 1 Axes>"
      ]
     },
     "metadata": {
      "needs_background": "light"
     },
     "output_type": "display_data"
    }
   ],
   "source": [
    "plt.plot(x, y, 'o')"
   ]
  },
  {
   "cell_type": "code",
   "execution_count": 56,
   "id": "fe3b71f2",
   "metadata": {},
   "outputs": [
    {
     "data": {
      "text/plain": [
       "array([[6.05555556, 5.61111111],\n",
       "       [5.61111111, 6.98888889]])"
      ]
     },
     "execution_count": 56,
     "metadata": {},
     "output_type": "execute_result"
    }
   ],
   "source": [
    "np.cov(x,y)"
   ]
  },
  {
   "cell_type": "code",
   "execution_count": 58,
   "id": "d3d8f549",
   "metadata": {},
   "outputs": [
    {
     "data": {
      "text/plain": [
       "5.611111111111111"
      ]
     },
     "execution_count": 58,
     "metadata": {},
     "output_type": "execute_result"
    }
   ],
   "source": [
    "np.cov(x,y)[0,1] # 공분산"
   ]
  },
  {
   "cell_type": "code",
   "execution_count": 59,
   "id": "b8faaffc",
   "metadata": {},
   "outputs": [],
   "source": [
    "z = [-3, -2, -1, 0, 1, 2, 3]\n",
    "w = [9, 4, 1, 0, 1, 4, 9]"
   ]
  },
  {
   "cell_type": "code",
   "execution_count": 61,
   "id": "44babcb3",
   "metadata": {},
   "outputs": [
    {
     "data": {
      "text/plain": [
       "[<matplotlib.lines.Line2D at 0x23a717ecb20>]"
      ]
     },
     "execution_count": 61,
     "metadata": {},
     "output_type": "execute_result"
    },
    {
     "data": {
      "image/png": "[encoded data removed]",
      "text/plain": [
       "<Figure size 432x288 with 1 Axes>"
      ]
     },
     "metadata": {
      "needs_background": "light"
     },
     "output_type": "display_data"
    }
   ],
   "source": [
    "plt.plot(z,w,'o')"
   ]
  },
  {
   "cell_type": "code",
   "execution_count": 62,
   "id": "4dad0b4c",
   "metadata": {},
   "outputs": [
    {
     "data": {
      "text/plain": [
       "0.0"
      ]
     },
     "execution_count": 62,
     "metadata": {},
     "output_type": "execute_result"
    }
   ],
   "source": [
    "np.cov(z,w)[0,1]"
   ]
  },
  {
   "cell_type": "code",
   "execution_count": 63,
   "id": "8df572bb",
   "metadata": {},
   "outputs": [
    {
     "data": {
      "text/plain": [
       "[8, 3, 6, 6, 9, 4, 3, 9, 3, 4]"
      ]
     },
     "execution_count": 63,
     "metadata": {},
     "output_type": "execute_result"
    }
   ],
   "source": [
    "x"
   ]
  },
  {
   "cell_type": "code",
   "execution_count": 64,
   "id": "70b981f8",
   "metadata": {},
   "outputs": [
    {
     "data": {
      "text/plain": [
       "[6, 2, 4, 6, 10, 5, 1, 8, 4, 5]"
      ]
     },
     "execution_count": 64,
     "metadata": {},
     "output_type": "execute_result"
    }
   ],
   "source": [
    "y"
   ]
  },
  {
   "cell_type": "code",
   "execution_count": 66,
   "id": "a0b743a6",
   "metadata": {},
   "outputs": [
    {
     "data": {
      "text/plain": [
       "0.862517279213578"
      ]
     },
     "execution_count": 66,
     "metadata": {},
     "output_type": "execute_result"
    }
   ],
   "source": [
    "np.corrcoef(x,y)[0,1] # 상관계수"
   ]
  },
  {
   "cell_type": "code",
   "execution_count": 69,
   "id": "ecb358c0",
   "metadata": {},
   "outputs": [],
   "source": [
    "# 공분산/(x의 표준편차 * y의표준편차)\n",
    "np.cov(x,y)[0,1] # 공분산\n",
    "xsd = np.std(x, ddof=1) # 표본표준편차\n",
    "ysd = np.std(y, ddof=1)"
   ]
  },
  {
   "cell_type": "code",
   "execution_count": 70,
   "id": "8cf204ae",
   "metadata": {},
   "outputs": [
    {
     "data": {
      "text/plain": [
       "0.8625172792135779"
      ]
     },
     "execution_count": 70,
     "metadata": {},
     "output_type": "execute_result"
    }
   ],
   "source": [
    "np.cov(x,y)[0,1]/(xsd*ysd)"
   ]
  },
  {
   "cell_type": "code",
   "execution_count": 71,
   "id": "05e08902",
   "metadata": {},
   "outputs": [],
   "source": [
    "# 3~12번열까지 총 10개 열에 해당되는 데이터를 추출하고\n",
    "# 각 열에대한 이름을 a~j까지 열거된 이름으로 설정한다.\n",
    "\n",
    "# a~j열까지 10개 열 상호간에 상관계수를 구했을 때, \n",
    "# 가장 상관계수가 높고 낮은 변수(features)들을 구하시오"
   ]
  },
  {
   "cell_type": "code",
   "execution_count": 93,
   "id": "833df4fa",
   "metadata": {},
   "outputs": [
    {
     "data": {
      "text/html": [
       "<div>\n",
       "<style scoped>\n",
       "    .dataframe tbody tr th:only-of-type {\n",
       "        vertical-align: middle;\n",
       "    }\n",
       "\n",
       "    .dataframe tbody tr th {\n",
       "        vertical-align: top;\n",
       "    }\n",
       "\n",
       "    .dataframe thead th {\n",
       "        text-align: right;\n",
       "    }\n",
       "</style>\n",
       "<table border=\"1\" class=\"dataframe\">\n",
       "  <thead>\n",
       "    <tr style=\"text-align: right;\">\n",
       "      <th></th>\n",
       "      <th>2</th>\n",
       "      <th>3</th>\n",
       "      <th>4</th>\n",
       "      <th>5</th>\n",
       "      <th>6</th>\n",
       "      <th>7</th>\n",
       "      <th>8</th>\n",
       "      <th>9</th>\n",
       "      <th>10</th>\n",
       "      <th>11</th>\n",
       "    </tr>\n",
       "  </thead>\n",
       "  <tbody>\n",
       "    <tr>\n",
       "      <th>0</th>\n",
       "      <td>17.99</td>\n",
       "      <td>10.38</td>\n",
       "      <td>122.80</td>\n",
       "      <td>1001.0</td>\n",
       "      <td>0.11840</td>\n",
       "      <td>0.27760</td>\n",
       "      <td>0.30010</td>\n",
       "      <td>0.14710</td>\n",
       "      <td>0.2419</td>\n",
       "      <td>0.07871</td>\n",
       "    </tr>\n",
       "    <tr>\n",
       "      <th>1</th>\n",
       "      <td>20.57</td>\n",
       "      <td>17.77</td>\n",
       "      <td>132.90</td>\n",
       "      <td>1326.0</td>\n",
       "      <td>0.08474</td>\n",
       "      <td>0.07864</td>\n",
       "      <td>0.08690</td>\n",
       "      <td>0.07017</td>\n",
       "      <td>0.1812</td>\n",
       "      <td>0.05667</td>\n",
       "    </tr>\n",
       "    <tr>\n",
       "      <th>2</th>\n",
       "      <td>19.69</td>\n",
       "      <td>21.25</td>\n",
       "      <td>130.00</td>\n",
       "      <td>1203.0</td>\n",
       "      <td>0.10960</td>\n",
       "      <td>0.15990</td>\n",
       "      <td>0.19740</td>\n",
       "      <td>0.12790</td>\n",
       "      <td>0.2069</td>\n",
       "      <td>0.05999</td>\n",
       "    </tr>\n",
       "    <tr>\n",
       "      <th>3</th>\n",
       "      <td>11.42</td>\n",
       "      <td>20.38</td>\n",
       "      <td>77.58</td>\n",
       "      <td>386.1</td>\n",
       "      <td>0.14250</td>\n",
       "      <td>0.28390</td>\n",
       "      <td>0.24140</td>\n",
       "      <td>0.10520</td>\n",
       "      <td>0.2597</td>\n",
       "      <td>0.09744</td>\n",
       "    </tr>\n",
       "    <tr>\n",
       "      <th>4</th>\n",
       "      <td>20.29</td>\n",
       "      <td>14.34</td>\n",
       "      <td>135.10</td>\n",
       "      <td>1297.0</td>\n",
       "      <td>0.10030</td>\n",
       "      <td>0.13280</td>\n",
       "      <td>0.19800</td>\n",
       "      <td>0.10430</td>\n",
       "      <td>0.1809</td>\n",
       "      <td>0.05883</td>\n",
       "    </tr>\n",
       "    <tr>\n",
       "      <th>...</th>\n",
       "      <td>...</td>\n",
       "      <td>...</td>\n",
       "      <td>...</td>\n",
       "      <td>...</td>\n",
       "      <td>...</td>\n",
       "      <td>...</td>\n",
       "      <td>...</td>\n",
       "      <td>...</td>\n",
       "      <td>...</td>\n",
       "      <td>...</td>\n",
       "    </tr>\n",
       "    <tr>\n",
       "      <th>564</th>\n",
       "      <td>21.56</td>\n",
       "      <td>22.39</td>\n",
       "      <td>142.00</td>\n",
       "      <td>1479.0</td>\n",
       "      <td>0.11100</td>\n",
       "      <td>0.11590</td>\n",
       "      <td>0.24390</td>\n",
       "      <td>0.13890</td>\n",
       "      <td>0.1726</td>\n",
       "      <td>0.05623</td>\n",
       "    </tr>\n",
       "    <tr>\n",
       "      <th>565</th>\n",
       "      <td>20.13</td>\n",
       "      <td>28.25</td>\n",
       "      <td>131.20</td>\n",
       "      <td>1261.0</td>\n",
       "      <td>0.09780</td>\n",
       "      <td>0.10340</td>\n",
       "      <td>0.14400</td>\n",
       "      <td>0.09791</td>\n",
       "      <td>0.1752</td>\n",
       "      <td>0.05533</td>\n",
       "    </tr>\n",
       "    <tr>\n",
       "      <th>566</th>\n",
       "      <td>16.60</td>\n",
       "      <td>28.08</td>\n",
       "      <td>108.30</td>\n",
       "      <td>858.1</td>\n",
       "      <td>0.08455</td>\n",
       "      <td>0.10230</td>\n",
       "      <td>0.09251</td>\n",
       "      <td>0.05302</td>\n",
       "      <td>0.1590</td>\n",
       "      <td>0.05648</td>\n",
       "    </tr>\n",
       "    <tr>\n",
       "      <th>567</th>\n",
       "      <td>20.60</td>\n",
       "      <td>29.33</td>\n",
       "      <td>140.10</td>\n",
       "      <td>1265.0</td>\n",
       "      <td>0.11780</td>\n",
       "      <td>0.27700</td>\n",
       "      <td>0.35140</td>\n",
       "      <td>0.15200</td>\n",
       "      <td>0.2397</td>\n",
       "      <td>0.07016</td>\n",
       "    </tr>\n",
       "    <tr>\n",
       "      <th>568</th>\n",
       "      <td>7.76</td>\n",
       "      <td>24.54</td>\n",
       "      <td>47.92</td>\n",
       "      <td>181.0</td>\n",
       "      <td>0.05263</td>\n",
       "      <td>0.04362</td>\n",
       "      <td>0.00000</td>\n",
       "      <td>0.00000</td>\n",
       "      <td>0.1587</td>\n",
       "      <td>0.05884</td>\n",
       "    </tr>\n",
       "  </tbody>\n",
       "</table>\n",
       "<p>569 rows × 10 columns</p>\n",
       "</div>"
      ],
      "text/plain": [
       "        2      3       4       5        6        7        8        9       10  \\\n",
       "0    17.99  10.38  122.80  1001.0  0.11840  0.27760  0.30010  0.14710  0.2419   \n",
       "1    20.57  17.77  132.90  1326.0  0.08474  0.07864  0.08690  0.07017  0.1812   \n",
       "2    19.69  21.25  130.00  1203.0  0.10960  0.15990  0.19740  0.12790  0.2069   \n",
       "3    11.42  20.38   77.58   386.1  0.14250  0.28390  0.24140  0.10520  0.2597   \n",
       "4    20.29  14.34  135.10  1297.0  0.10030  0.13280  0.19800  0.10430  0.1809   \n",
       "..     ...    ...     ...     ...      ...      ...      ...      ...     ...   \n",
       "564  21.56  22.39  142.00  1479.0  0.11100  0.11590  0.24390  0.13890  0.1726   \n",
       "565  20.13  28.25  131.20  1261.0  0.09780  0.10340  0.14400  0.09791  0.1752   \n",
       "566  16.60  28.08  108.30   858.1  0.08455  0.10230  0.09251  0.05302  0.1590   \n",
       "567  20.60  29.33  140.10  1265.0  0.11780  0.27700  0.35140  0.15200  0.2397   \n",
       "568   7.76  24.54   47.92   181.0  0.05263  0.04362  0.00000  0.00000  0.1587   \n",
       "\n",
       "          11  \n",
       "0    0.07871  \n",
       "1    0.05667  \n",
       "2    0.05999  \n",
       "3    0.09744  \n",
       "4    0.05883  \n",
       "..       ...  \n",
       "564  0.05623  \n",
       "565  0.05533  \n",
       "566  0.05648  \n",
       "567  0.07016  \n",
       "568  0.05884  \n",
       "\n",
       "[569 rows x 10 columns]"
      ]
     },
     "execution_count": 93,
     "metadata": {},
     "output_type": "execute_result"
    }
   ],
   "source": [
    "medi = pd.read_csv('breast+cancer+wisconsin+diagnostic/wdbc.data', header=None).iloc[:, 2:12]\n",
    "medi"
   ]
  },
  {
   "cell_type": "code",
   "execution_count": 96,
   "id": "f6a88389",
   "metadata": {},
   "outputs": [],
   "source": [
    "medi.columns=['radius', 'texture', 'perimeter', 'area', 'smoothness', 'compactness', 'concavity', 'concave points', 'symmetry', 'fractal dimension']"
   ]
  },
  {
   "cell_type": "code",
   "execution_count": 97,
   "id": "2b2f0bf1",
   "metadata": {},
   "outputs": [
    {
     "data": {
      "text/html": [
       "<div>\n",
       "<style scoped>\n",
       "    .dataframe tbody tr th:only-of-type {\n",
       "        vertical-align: middle;\n",
       "    }\n",
       "\n",
       "    .dataframe tbody tr th {\n",
       "        vertical-align: top;\n",
       "    }\n",
       "\n",
       "    .dataframe thead th {\n",
       "        text-align: right;\n",
       "    }\n",
       "</style>\n",
       "<table border=\"1\" class=\"dataframe\">\n",
       "  <thead>\n",
       "    <tr style=\"text-align: right;\">\n",
       "      <th></th>\n",
       "      <th>radius</th>\n",
       "      <th>texture</th>\n",
       "      <th>perimeter</th>\n",
       "      <th>area</th>\n",
       "      <th>smoothness</th>\n",
       "      <th>compactness</th>\n",
       "      <th>concavity</th>\n",
       "      <th>concave points</th>\n",
       "      <th>symmetry</th>\n",
       "      <th>fractal dimension</th>\n",
       "    </tr>\n",
       "  </thead>\n",
       "  <tbody>\n",
       "    <tr>\n",
       "      <th>0</th>\n",
       "      <td>17.99</td>\n",
       "      <td>10.38</td>\n",
       "      <td>122.80</td>\n",
       "      <td>1001.0</td>\n",
       "      <td>0.11840</td>\n",
       "      <td>0.27760</td>\n",
       "      <td>0.30010</td>\n",
       "      <td>0.14710</td>\n",
       "      <td>0.2419</td>\n",
       "      <td>0.07871</td>\n",
       "    </tr>\n",
       "    <tr>\n",
       "      <th>1</th>\n",
       "      <td>20.57</td>\n",
       "      <td>17.77</td>\n",
       "      <td>132.90</td>\n",
       "      <td>1326.0</td>\n",
       "      <td>0.08474</td>\n",
       "      <td>0.07864</td>\n",
       "      <td>0.08690</td>\n",
       "      <td>0.07017</td>\n",
       "      <td>0.1812</td>\n",
       "      <td>0.05667</td>\n",
       "    </tr>\n",
       "    <tr>\n",
       "      <th>2</th>\n",
       "      <td>19.69</td>\n",
       "      <td>21.25</td>\n",
       "      <td>130.00</td>\n",
       "      <td>1203.0</td>\n",
       "      <td>0.10960</td>\n",
       "      <td>0.15990</td>\n",
       "      <td>0.19740</td>\n",
       "      <td>0.12790</td>\n",
       "      <td>0.2069</td>\n",
       "      <td>0.05999</td>\n",
       "    </tr>\n",
       "    <tr>\n",
       "      <th>3</th>\n",
       "      <td>11.42</td>\n",
       "      <td>20.38</td>\n",
       "      <td>77.58</td>\n",
       "      <td>386.1</td>\n",
       "      <td>0.14250</td>\n",
       "      <td>0.28390</td>\n",
       "      <td>0.24140</td>\n",
       "      <td>0.10520</td>\n",
       "      <td>0.2597</td>\n",
       "      <td>0.09744</td>\n",
       "    </tr>\n",
       "    <tr>\n",
       "      <th>4</th>\n",
       "      <td>20.29</td>\n",
       "      <td>14.34</td>\n",
       "      <td>135.10</td>\n",
       "      <td>1297.0</td>\n",
       "      <td>0.10030</td>\n",
       "      <td>0.13280</td>\n",
       "      <td>0.19800</td>\n",
       "      <td>0.10430</td>\n",
       "      <td>0.1809</td>\n",
       "      <td>0.05883</td>\n",
       "    </tr>\n",
       "    <tr>\n",
       "      <th>...</th>\n",
       "      <td>...</td>\n",
       "      <td>...</td>\n",
       "      <td>...</td>\n",
       "      <td>...</td>\n",
       "      <td>...</td>\n",
       "      <td>...</td>\n",
       "      <td>...</td>\n",
       "      <td>...</td>\n",
       "      <td>...</td>\n",
       "      <td>...</td>\n",
       "    </tr>\n",
       "    <tr>\n",
       "      <th>564</th>\n",
       "      <td>21.56</td>\n",
       "      <td>22.39</td>\n",
       "      <td>142.00</td>\n",
       "      <td>1479.0</td>\n",
       "      <td>0.11100</td>\n",
       "      <td>0.11590</td>\n",
       "      <td>0.24390</td>\n",
       "      <td>0.13890</td>\n",
       "      <td>0.1726</td>\n",
       "      <td>0.05623</td>\n",
       "    </tr>\n",
       "    <tr>\n",
       "      <th>565</th>\n",
       "      <td>20.13</td>\n",
       "      <td>28.25</td>\n",
       "      <td>131.20</td>\n",
       "      <td>1261.0</td>\n",
       "      <td>0.09780</td>\n",
       "      <td>0.10340</td>\n",
       "      <td>0.14400</td>\n",
       "      <td>0.09791</td>\n",
       "      <td>0.1752</td>\n",
       "      <td>0.05533</td>\n",
       "    </tr>\n",
       "    <tr>\n",
       "      <th>566</th>\n",
       "      <td>16.60</td>\n",
       "      <td>28.08</td>\n",
       "      <td>108.30</td>\n",
       "      <td>858.1</td>\n",
       "      <td>0.08455</td>\n",
       "      <td>0.10230</td>\n",
       "      <td>0.09251</td>\n",
       "      <td>0.05302</td>\n",
       "      <td>0.1590</td>\n",
       "      <td>0.05648</td>\n",
       "    </tr>\n",
       "    <tr>\n",
       "      <th>567</th>\n",
       "      <td>20.60</td>\n",
       "      <td>29.33</td>\n",
       "      <td>140.10</td>\n",
       "      <td>1265.0</td>\n",
       "      <td>0.11780</td>\n",
       "      <td>0.27700</td>\n",
       "      <td>0.35140</td>\n",
       "      <td>0.15200</td>\n",
       "      <td>0.2397</td>\n",
       "      <td>0.07016</td>\n",
       "    </tr>\n",
       "    <tr>\n",
       "      <th>568</th>\n",
       "      <td>7.76</td>\n",
       "      <td>24.54</td>\n",
       "      <td>47.92</td>\n",
       "      <td>181.0</td>\n",
       "      <td>0.05263</td>\n",
       "      <td>0.04362</td>\n",
       "      <td>0.00000</td>\n",
       "      <td>0.00000</td>\n",
       "      <td>0.1587</td>\n",
       "      <td>0.05884</td>\n",
       "    </tr>\n",
       "  </tbody>\n",
       "</table>\n",
       "<p>569 rows × 10 columns</p>\n",
       "</div>"
      ],
      "text/plain": [
       "     radius  texture  perimeter    area  smoothness  compactness  concavity  \\\n",
       "0     17.99    10.38     122.80  1001.0     0.11840      0.27760    0.30010   \n",
       "1     20.57    17.77     132.90  1326.0     0.08474      0.07864    0.08690   \n",
       "2     19.69    21.25     130.00  1203.0     0.10960      0.15990    0.19740   \n",
       "3     11.42    20.38      77.58   386.1     0.14250      0.28390    0.24140   \n",
       "4     20.29    14.34     135.10  1297.0     0.10030      0.13280    0.19800   \n",
       "..      ...      ...        ...     ...         ...          ...        ...   \n",
       "564   21.56    22.39     142.00  1479.0     0.11100      0.11590    0.24390   \n",
       "565   20.13    28.25     131.20  1261.0     0.09780      0.10340    0.14400   \n",
       "566   16.60    28.08     108.30   858.1     0.08455      0.10230    0.09251   \n",
       "567   20.60    29.33     140.10  1265.0     0.11780      0.27700    0.35140   \n",
       "568    7.76    24.54      47.92   181.0     0.05263      0.04362    0.00000   \n",
       "\n",
       "     concave points  symmetry  fractal dimension  \n",
       "0           0.14710    0.2419            0.07871  \n",
       "1           0.07017    0.1812            0.05667  \n",
       "2           0.12790    0.2069            0.05999  \n",
       "3           0.10520    0.2597            0.09744  \n",
       "4           0.10430    0.1809            0.05883  \n",
       "..              ...       ...                ...  \n",
       "564         0.13890    0.1726            0.05623  \n",
       "565         0.09791    0.1752            0.05533  \n",
       "566         0.05302    0.1590            0.05648  \n",
       "567         0.15200    0.2397            0.07016  \n",
       "568         0.00000    0.1587            0.05884  \n",
       "\n",
       "[569 rows x 10 columns]"
      ]
     },
     "execution_count": 97,
     "metadata": {},
     "output_type": "execute_result"
    }
   ],
   "source": [
    "medi"
   ]
  },
  {
   "cell_type": "code",
   "execution_count": 98,
   "id": "44b19d9c",
   "metadata": {},
   "outputs": [
    {
     "data": {
      "text/plain": [
       "radius                 17.99000\n",
       "texture                10.38000\n",
       "perimeter             122.80000\n",
       "area                 1001.00000\n",
       "smoothness              0.11840\n",
       "compactness             0.27760\n",
       "concavity               0.30010\n",
       "concave points          0.14710\n",
       "symmetry                0.24190\n",
       "fractal dimension       0.07871\n",
       "Name: 0, dtype: float64"
      ]
     },
     "execution_count": 98,
     "metadata": {},
     "output_type": "execute_result"
    }
   ],
   "source": [
    "medi.iloc[0]"
   ]
  },
  {
   "cell_type": "code",
   "execution_count": 99,
   "id": "c2db6897",
   "metadata": {},
   "outputs": [
    {
     "data": {
      "text/plain": [
       "0.9997347978355419"
      ]
     },
     "execution_count": 99,
     "metadata": {},
     "output_type": "execute_result"
    }
   ],
   "source": [
    "np.corrcoef(medi.iloc[0],medi.iloc[1])[0,1] # 상관계수"
   ]
  },
  {
   "cell_type": "code",
   "execution_count": 108,
   "id": "2e1e0768",
   "metadata": {},
   "outputs": [
    {
     "data": {
      "text/plain": [
       "('radius', 'fractal dimension')"
      ]
     },
     "execution_count": 108,
     "metadata": {},
     "output_type": "execute_result"
    }
   ],
   "source": [
    "res = {}\n",
    "for i in range(len(medi.columns)):\n",
    "    for j in range(i+1, len(medi.columns)):\n",
    "        a1 = medi.columns[i]\n",
    "        a2 = medi.columns[j]\n",
    "        \n",
    "        a3 = np.corrcoef(medi[a1], medi[a2])[0,1] # 상관계수\n",
    "        \n",
    "        res[(a1, a2)] = a3\n",
    "\n",
    "max_res = max(res, key=res.get)\n",
    "max_res\n",
    "\n",
    "min_res = min(res, key=res.get)\n",
    "min_res"
   ]
  },
  {
   "cell_type": "code",
   "execution_count": 110,
   "id": "66c022ec",
   "metadata": {},
   "outputs": [
    {
     "data": {
      "text/plain": [
       "-0.3116308263092902"
      ]
     },
     "execution_count": 110,
     "metadata": {},
     "output_type": "execute_result"
    }
   ],
   "source": [
    "df = pd.read_csv('breast+cancer+wisconsin+diagnostic/wdbc.data', header=None).iloc[:, 2:12]\n",
    "df\n",
    "\n",
    "df.columns = [\n",
    "    'radius', 'texture', 'perimeter', 'area', 'smoothness', \n",
    "    'compactness', 'concavity', 'concave points', 'symmetry', 'fractal dimension'\n",
    "]\n",
    "\n",
    "corr_arr = np.corrcoef(df, rowvar=False) # 상관계수 배열\n",
    "corr_df = pd.DataFrame(corr_arr, index=df.columns, columns=df.columns) # 상관계수 프레임\n",
    "\n",
    "descending_ser = corr_df.unstack().sort_values(ascending=False) # 내림차순\n",
    "ascending_ser = corr_df.unstack().sort_values() # 오름차순\n",
    "\n",
    "descending_ser[descending_ser < 0.999][0] # 1 미만 가장 큰 값\n",
    "ascending_ser[0] # 가장 작은 값"
   ]
  },
  {
   "cell_type": "code",
   "execution_count": null,
   "id": "6c8fab24",
   "metadata": {},
   "outputs": [],
   "source": []
  }
 ],
 "metadata": {
  "kernelspec": {
   "display_name": "Python 3 (ipykernel)",
   "language": "python",
   "name": "python3"
  },
  "language_info": {
   "codemirror_mode": {
    "name": "ipython",
    "version": 3
   },
   "file_extension": ".py",
   "mimetype": "text/x-python",
   "name": "python",
   "nbconvert_exporter": "python",
   "pygments_lexer": "ipython3",
   "version": "3.9.7"
  }
 },
 "nbformat": 4,
 "nbformat_minor": 5
}
