{
 "cells": [
  {
   "cell_type": "code",
   "execution_count": 1,
   "id": "f7a95674",
   "metadata": {},
   "outputs": [],
   "source": [
    "# 미국 태생 아이들 이름 분석(120년)"
   ]
  },
  {
   "cell_type": "code",
   "execution_count": 13,
   "id": "4ef980b7",
   "metadata": {},
   "outputs": [],
   "source": [
    "import pandas as pd "
   ]
  },
  {
   "cell_type": "code",
   "execution_count": 14,
   "id": "e4b69711",
   "metadata": {},
   "outputs": [
    {
     "data": {
      "text/html": [
       "<div>\n",
       "<style scoped>\n",
       "    .dataframe tbody tr th:only-of-type {\n",
       "        vertical-align: middle;\n",
       "    }\n",
       "\n",
       "    .dataframe tbody tr th {\n",
       "        vertical-align: top;\n",
       "    }\n",
       "\n",
       "    .dataframe thead th {\n",
       "        text-align: right;\n",
       "    }\n",
       "</style>\n",
       "<table border=\"1\" class=\"dataframe\">\n",
       "  <thead>\n",
       "    <tr style=\"text-align: right;\">\n",
       "      <th></th>\n",
       "      <th>이름</th>\n",
       "      <th>성별</th>\n",
       "      <th>출생아수</th>\n",
       "      <th>연도</th>\n",
       "    </tr>\n",
       "  </thead>\n",
       "  <tbody>\n",
       "    <tr>\n",
       "      <th>0</th>\n",
       "      <td>Mary</td>\n",
       "      <td>F</td>\n",
       "      <td>7065</td>\n",
       "      <td>1880</td>\n",
       "    </tr>\n",
       "    <tr>\n",
       "      <th>1</th>\n",
       "      <td>Anna</td>\n",
       "      <td>F</td>\n",
       "      <td>2604</td>\n",
       "      <td>1880</td>\n",
       "    </tr>\n",
       "    <tr>\n",
       "      <th>2</th>\n",
       "      <td>Emma</td>\n",
       "      <td>F</td>\n",
       "      <td>2003</td>\n",
       "      <td>1880</td>\n",
       "    </tr>\n",
       "    <tr>\n",
       "      <th>3</th>\n",
       "      <td>Elizabeth</td>\n",
       "      <td>F</td>\n",
       "      <td>1939</td>\n",
       "      <td>1880</td>\n",
       "    </tr>\n",
       "    <tr>\n",
       "      <th>4</th>\n",
       "      <td>Minnie</td>\n",
       "      <td>F</td>\n",
       "      <td>1746</td>\n",
       "      <td>1880</td>\n",
       "    </tr>\n",
       "    <tr>\n",
       "      <th>...</th>\n",
       "      <td>...</td>\n",
       "      <td>...</td>\n",
       "      <td>...</td>\n",
       "      <td>...</td>\n",
       "    </tr>\n",
       "    <tr>\n",
       "      <th>1690779</th>\n",
       "      <td>Zymaire</td>\n",
       "      <td>M</td>\n",
       "      <td>5</td>\n",
       "      <td>2010</td>\n",
       "    </tr>\n",
       "    <tr>\n",
       "      <th>1690780</th>\n",
       "      <td>Zyonne</td>\n",
       "      <td>M</td>\n",
       "      <td>5</td>\n",
       "      <td>2010</td>\n",
       "    </tr>\n",
       "    <tr>\n",
       "      <th>1690781</th>\n",
       "      <td>Zyquarius</td>\n",
       "      <td>M</td>\n",
       "      <td>5</td>\n",
       "      <td>2010</td>\n",
       "    </tr>\n",
       "    <tr>\n",
       "      <th>1690782</th>\n",
       "      <td>Zyran</td>\n",
       "      <td>M</td>\n",
       "      <td>5</td>\n",
       "      <td>2010</td>\n",
       "    </tr>\n",
       "    <tr>\n",
       "      <th>1690783</th>\n",
       "      <td>Zzyzx</td>\n",
       "      <td>M</td>\n",
       "      <td>5</td>\n",
       "      <td>2010</td>\n",
       "    </tr>\n",
       "  </tbody>\n",
       "</table>\n",
       "<p>1690784 rows × 4 columns</p>\n",
       "</div>"
      ],
      "text/plain": [
       "                이름 성별  출생아수    연도\n",
       "0             Mary  F  7065  1880\n",
       "1             Anna  F  2604  1880\n",
       "2             Emma  F  2003  1880\n",
       "3        Elizabeth  F  1939  1880\n",
       "4           Minnie  F  1746  1880\n",
       "...            ... ..   ...   ...\n",
       "1690779    Zymaire  M     5  2010\n",
       "1690780     Zyonne  M     5  2010\n",
       "1690781  Zyquarius  M     5  2010\n",
       "1690782      Zyran  M     5  2010\n",
       "1690783      Zzyzx  M     5  2010\n",
       "\n",
       "[1690784 rows x 4 columns]"
      ]
     },
     "execution_count": 14,
     "metadata": {},
     "output_type": "execute_result"
    }
   ],
   "source": [
    "# txt 파일로 되어 있는 파일들 하나의 dataframe으로 만들기\n",
    "df_list = []\n",
    "for y in range(1880, 2011):\n",
    "    df = pd.read_csv(f\"babynames/yob{y}.txt\", names=['이름','성별','출생아수'])\n",
    "    df['연도'] = y\n",
    "    df_list.append(df)\n",
    "\n",
    "df = pd.concat(df_list, ignore_index=True)\n",
    "df"
   ]
  },
  {
   "cell_type": "code",
   "execution_count": 15,
   "id": "b5ed4f4b",
   "metadata": {},
   "outputs": [
    {
     "data": {
      "text/plain": [
       "성별\n",
       "F    159990140\n",
       "M    162412587\n",
       "Name: 출생아수, dtype: int64"
      ]
     },
     "execution_count": 15,
     "metadata": {},
     "output_type": "execute_result"
    }
   ],
   "source": [
    "# 총 춯생아수, 남, 여 출생아수 차이 비교\n",
    "\n",
    "# 총 출생아수\n",
    "df['출생아수'].sum()\n",
    "\n",
    "# 여 출생아수\n",
    "df_female = df[df['성별']=='F']\n",
    "df_female.loc[:, '출생아수'].sum()\n",
    "\n",
    "# 남 출생아수\n",
    "df_male = df[df['성별']=='M']\n",
    "df_male.loc[:, '출생아수'].sum()\n",
    "\n",
    "df.groupby(df.성별)['출생아수'].sum()"
   ]
  },
  {
   "cell_type": "code",
   "execution_count": 16,
   "id": "2c703072",
   "metadata": {},
   "outputs": [
    {
     "data": {
      "text/plain": [
       "성별\n",
       "M    77\n",
       "F    54\n",
       "Name: count, dtype: int64"
      ]
     },
     "execution_count": 16,
     "metadata": {},
     "output_type": "execute_result"
    }
   ],
   "source": [
    "# 각 연도와 성별에 따른 출생아 수의 합계 구하기\n",
    "grouped = df.groupby([df.연도, df.성별])['출생아수'].sum().reset_index()\n",
    "grouped\n",
    "\n",
    "# 각 연도에서 가장 많은 출생아 수를 가진 성별 찾기\n",
    "idx = grouped.groupby(grouped.연도)['출생아수'].idxmax()\n",
    "most_births = grouped.loc[idx]\n",
    "most_births['성별'].value_counts()"
   ]
  },
  {
   "cell_type": "code",
   "execution_count": null,
   "id": "204ad21d",
   "metadata": {},
   "outputs": [],
   "source": [
    "# 21세기와 21세기 이전으로구분해 출생아의 이름 변화 비교 \n",
    "\n",
    "# 21세기 남아\n",
    "male21 = df_male[df_male['연도']>=2000].groupby(['연도', '이름']).sum().sort_values(by='출생아수', ascending=False)\n",
    "male21 = male21.groupby('이름').sum()\n",
    "ma21 = male21.sort_values(by='출생아수', ascending=False).head(50)\n",
    "ma21\n",
    "# 21세기 남아 이름의 종류\n",
    "len(male21)\n",
    "# 중복된 이름이 100개 이하인 남아 이름\n",
    "male21[male21['출생아수']<100]\n",
    "\n",
    "# 21세기 이전 남아\n",
    "male20 = df_male[df_male['연도']<2000].groupby(['연도', '이름']).sum().sort_values(by='출생아수', ascending=False)\n",
    "male20 = male20.groupby('이름').sum()\n",
    "ma20 = male20.sort_values(by='출생아수', ascending=False).head(50)\n",
    "ma20\n",
    "# 21세기 이전 남아 이름의 종류\n",
    "len(male20)\n",
    "# 중복된 이름이 100개 이하인 남아 이름\n",
    "male20[male20['출생아수']<100]"
   ]
  },
  {
   "cell_type": "code",
   "execution_count": null,
   "id": "6186f9b7",
   "metadata": {},
   "outputs": [],
   "source": [
    "# 21세기 여아\n",
    "female21 = df_female[df_female['연도']>=2000].groupby(['연도', '이름']).sum().sort_values(by='출생아수', ascending=False)\n",
    "female21 = female21.groupby('이름').sum()\n",
    "fe21 = female21.sort_values(by='출생아수', ascending=False).head(50)\n",
    "fe21\n",
    "# 21세기 여아 이름의 종류\n",
    "len(female21)\n",
    "# 중복된 이름이 100개 이하인 여아 이름\n",
    "female21[female21['출생아수']<100]\n",
    "\n",
    "# 21세기 이전 여아\n",
    "female20 = df_female[df_female['연도']<2000].groupby(['연도', '이름']).sum().sort_values(by='출생아수', ascending=False)\n",
    "female20 = female20.groupby('이름').sum()\n",
    "fe20 = female20.sort_values(by='출생아수', ascending=False).head(50)\n",
    "fe20\n",
    "# 21세기 이전 여아 이름의 종류\n",
    "len(female20)\n",
    "# 중복된 이름이 100개 이하인 여아 이름\n",
    "female20[female20['출생아수']<100]"
   ]
  },
  {
   "cell_type": "code",
   "execution_count": null,
   "id": "4922c06b",
   "metadata": {},
   "outputs": [],
   "source": [
    "# 남/여아 자주사용된 이름 50개의 과거/현재의 이름의 유행도 비교\n",
    "\n",
    "# ma : 남/ fe : 여\n",
    "ma21.merge(ma20, on=['이름'], suffixes=('_21세기', '_20세기'))\n",
    "fe21.merge(fe20, on=['이름'], suffixes=('_21세기', '_20세기'))\n",
    "\n",
    "res = ma21.merge(ma20, on=['이름'], how='outer', suffixes=('_21세기', '_20세기'))\n",
    "res.sort_values(by=['출생아수_21세기', '출생아수_20세기'], ascending=False, na_position='last')\n",
    "res.sort_values(by=['출생아수_20세기', '출생아수_21세기'], ascending=False, na_position='last')\n",
    "\n",
    "res = fe21.merge(fe20, on=['이름'], how='outer', suffixes=('_21세기', '_20세기'))\n",
    "res.sort_values(by=['출생아수_21세기', '출생아수_20세기'], ascending=False, na_position='last')\n",
    "res.sort_values(by=['출생아수_20세기', '출생아수_21세기'], ascending=False, na_position='last')"
   ]
  },
  {
   "cell_type": "code",
   "execution_count": null,
   "id": "c109dc92",
   "metadata": {},
   "outputs": [],
   "source": [
    "# 미완성 남/여아 이름을 n분위로 나누어서 이름의 유행, 중복도 확인\n",
    "pd.cut(female20['출생아수'], bins=[4, 100, 1000, 10000, 50000, np.inf], labels=[1,2,3,4,5])\n",
    "female20['출생아수_구간'] = pd.cut(fe21['출생아수'], bins=[4, 100, 1000, 10000, 50000, np.inf], labels=[1,2,3,4,5])\n",
    "female20['출생아수_구간'].value_counts()"
   ]
  }
 ],
 "metadata": {
  "kernelspec": {
   "display_name": "Python 3 (ipykernel)",
   "language": "python",
   "name": "python3"
  },
  "language_info": {
   "codemirror_mode": {
    "name": "ipython",
    "version": 3
   },
   "file_extension": ".py",
   "mimetype": "text/x-python",
   "name": "python",
   "nbconvert_exporter": "python",
   "pygments_lexer": "ipython3",
   "version": "3.11.5"
  }
 },
 "nbformat": 4,
 "nbformat_minor": 5
}
